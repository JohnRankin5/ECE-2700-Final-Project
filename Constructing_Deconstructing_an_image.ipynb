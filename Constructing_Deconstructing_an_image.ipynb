{
 "cells": [
  {
   "cell_type": "code",
   "execution_count": 1,
   "metadata": {
    "id": "-gQUz26Ov5yr"
   },
   "outputs": [],
   "source": [
    "from PIL import Image\n",
    "import numpy as np\n",
    "import matplotlib.pyplot as plt"
   ]
  },
  {
   "cell_type": "code",
   "execution_count": 16,
   "metadata": {
    "id": "DUM5uWQUwFM3"
   },
   "outputs": [],
   "source": [
    "iamge_path = \"Image.jpg\"\n",
    "\n",
    "\"\"\"Functions to preproccess the image, they do not need to be defined because they are a part of PIL, but I included them here.\"\"\"\n",
    "#load the image\n",
    "def load_image(image_path):\n",
    "    image = Image.open(image_path)\n",
    "    #print(f\"Image loaded with size: {image.size}\")\n",
    "    return image\n",
    "\n",
    "#turn the image into an array for processing\n",
    "def image_to_array(image):\n",
    "    image_array = np.array(image)\n",
    "    return image_array\n",
    "\n",
    "#normalize image in range 0-1 (can help if we want to use fourier transform)\n",
    "def normalize_image(array):\n",
    "    normalized_array = array / 255.0\n",
    "    return normalized_array\n",
    "\n",
    "#plot image\n",
    "def visualize_image(array, title=\"Image\"):\n",
    "    plt.imshow(array)\n",
    "    plt.title(title)\n",
    "    plt.axis('off')\n",
    "    plt.show()\n",
    "\n",
    "\n",
    "#main function\n",
    "def preprocess_image(image_path):\n",
    "    # Load image\n",
    "    image = load_image(image_path)\n",
    "\n",
    "    # Convert to array\n",
    "    array = image_to_array(image)\n",
    "\n",
    "    # Normalize the image\n",
    "    normalized_array = normalize_image(array)\n",
    "\n",
    "    # Visualize the image (optional)\n",
    "    #visualize_image(array, \"Original Image\")\n",
    "\n",
    "    return normalized_array\n",
    "\n",
    "\n",
    "#name of the picture file goes here\n",
    "#output of processed image is an array\n",
    "processed_image = preprocess_image(\"Image.jpg\")\n"
   ]
  },
  {
   "cell_type": "code",
   "execution_count": 17,
   "metadata": {
    "colab": {
     "base_uri": "https://localhost:8080/"
    },
    "id": "-YBz_oY0c5_t",
    "outputId": "b7d611ee-57bb-4901-e588-728195e5040a"
   },
   "outputs": [
    {
     "name": "stdout",
     "output_type": "stream",
     "text": [
      "[[[0.18823529 0.16862745 0.15686275]\n",
      "  [0.16862745 0.12941176 0.1254902 ]\n",
      "  [0.15686275 0.10980392 0.10980392]\n",
      "  ...\n",
      "  [0.31764706 0.35294118 0.41960784]\n",
      "  [0.30588235 0.34117647 0.40784314]\n",
      "  [0.29019608 0.3254902  0.39215686]]\n",
      "\n",
      " [[0.18823529 0.15294118 0.15686275]\n",
      "  [0.15294118 0.11372549 0.11764706]\n",
      "  [0.14509804 0.09803922 0.10588235]\n",
      "  ...\n",
      "  [0.31372549 0.34901961 0.41568627]\n",
      "  [0.29803922 0.33333333 0.4       ]\n",
      "  [0.29019608 0.3254902  0.39215686]]\n",
      "\n",
      " [[0.1372549  0.10196078 0.11372549]\n",
      "  [0.14117647 0.09411765 0.10980392]\n",
      "  [0.14117647 0.08235294 0.10196078]\n",
      "  ...\n",
      "  [0.30980392 0.34509804 0.41176471]\n",
      "  [0.30196078 0.3372549  0.40392157]\n",
      "  [0.31372549 0.34901961 0.41568627]]\n",
      "\n",
      " ...\n",
      "\n",
      " [[0.0627451  0.06666667 0.04313725]\n",
      "  [0.05490196 0.05882353 0.03529412]\n",
      "  [0.05098039 0.05490196 0.02352941]\n",
      "  ...\n",
      "  [0.09019608 0.07843137 0.04313725]\n",
      "  [0.08235294 0.07058824 0.03529412]\n",
      "  [0.07843137 0.06666667 0.03137255]]\n",
      "\n",
      " [[0.05490196 0.05882353 0.03529412]\n",
      "  [0.05490196 0.05882353 0.03529412]\n",
      "  [0.05098039 0.05490196 0.02352941]\n",
      "  ...\n",
      "  [0.07843137 0.0627451  0.01960784]\n",
      "  [0.0745098  0.05882353 0.02352941]\n",
      "  [0.08235294 0.07058824 0.03529412]]\n",
      "\n",
      " [[0.03921569 0.04313725 0.01960784]\n",
      "  [0.04313725 0.04705882 0.02352941]\n",
      "  [0.04705882 0.05098039 0.01960784]\n",
      "  ...\n",
      "  [0.09803922 0.08235294 0.03921569]\n",
      "  [0.09411765 0.07843137 0.03529412]\n",
      "  [0.09019608 0.0745098  0.03137255]]]\n"
     ]
    }
   ],
   "source": [
    "#check contents (displays a large array of values ranging from 0-1)\n",
    "print(processed_image)"
   ]
  },
  {
   "cell_type": "code",
   "execution_count": 18,
   "metadata": {
    "id": "q6Ua_C5XbhBG"
   },
   "outputs": [],
   "source": [
    "\n",
    "\"\"\"there are predefined functions for denormalize_image, array_to_image, save_image, etc, but i added them above so we can debug if we need to\"\"\"\n",
    "def save_image(image, save_path):\n",
    "    image.save(save_path)\n",
    "    #print(f\"Image saved to {save_path}\")\n",
    "\n",
    "\n",
    "def denormalize_image(normalized_array):\n",
    "    # Check the range of the input array\n",
    "    if np.min(normalized_array) < 0:\n",
    "        # Scale [-1, 1] to [0, 255]\n",
    "        denormalized_array = ((normalized_array + 1) * 127.5).astype(np.uint8)\n",
    "    else:\n",
    "        # Scale [0, 1] to [0, 255]\n",
    "        denormalized_array = (normalized_array * 255).astype(np.uint8)\n",
    "\n",
    "    return denormalized_array\n",
    "\n",
    "def array_to_image(array):\n",
    "    #2D = GrayScale\n",
    "    if array.ndim == 2:\n",
    "        return Image.fromarray(array, mode=\"L\")  # Grayscale\n",
    "    #3D = RGB\n",
    "    elif array.ndim == 3 and array.shape[2] == 3:\n",
    "        return Image.fromarray(array, mode=\"RGB\")  # RGB\n",
    "\n",
    "\n",
    "\n",
    "# Function to recreate the image\n",
    "def recreate_image(normalized_array, save_path=None):\n",
    "    # Denormalize the array\n",
    "    denormalized_array = denormalize_image(normalized_array)\n",
    "\n",
    "    # Convert back to an image\n",
    "    recreated_image = array_to_image(denormalized_array)\n",
    "\n",
    "    # Save the image if a save path is provided\n",
    "    if save_path:\n",
    "        save_image(recreated_image, save_path)\n",
    "\n",
    "    # Visualize the recreated image (optional)\n",
    "    #visualize_image(denormalized_array, \"Recreated Image\")\n",
    "\n",
    "    return recreated_image\n",
    "\n",
    "processed_image = preprocess_image(\"Image.jpg\")\n",
    "\n",
    "#to visualize image either uncomment the visualize_image function or look through the save_path\n",
    "recreated_image = recreate_image(processed_image, save_path=\"recreated_image.jpg\")\n"
   ]
  }
 ],
 "metadata": {
  "colab": {
   "provenance": []
  },
  "kernelspec": {
   "display_name": "Python 3",
   "name": "python3"
  },
  "language_info": {
   "codemirror_mode": {
    "name": "ipython",
    "version": 3
   },
   "file_extension": ".py",
   "mimetype": "text/x-python",
   "name": "python",
   "nbconvert_exporter": "python",
   "pygments_lexer": "ipython3",
   "version": "3.12.1"
  }
 },
 "nbformat": 4,
 "nbformat_minor": 0
}
