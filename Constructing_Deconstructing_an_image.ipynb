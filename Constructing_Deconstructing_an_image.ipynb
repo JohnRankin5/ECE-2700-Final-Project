{
 "cells": [
  {
   "cell_type": "code",
   "execution_count": 1,
   "metadata": {
    "id": "-gQUz26Ov5yr"
   },
   "outputs": [],
   "source": [
    "from PIL import Image\n",
    "import numpy as np\n",
    "import matplotlib.pyplot as plt"
   ]
  },
  {
   "cell_type": "code",
   "execution_count": 2,
   "metadata": {
    "id": "DUM5uWQUwFM3"
   },
   "outputs": [
    {
     "ename": "FileNotFoundError",
     "evalue": "[Errno 2] No such file or directory: 'C:\\\\Users\\\\jdrga\\\\iCloudDrive\\\\ UVA\\\\Third Semester\\\\ECE 2700\\\\Final Project\\\\sample.jpg'",
     "output_type": "error",
     "traceback": [
      "\u001b[1;31m---------------------------------------------------------------------------\u001b[0m",
      "\u001b[1;31mFileNotFoundError\u001b[0m                         Traceback (most recent call last)",
      "Cell \u001b[1;32mIn[2], line 45\u001b[0m\n\u001b[0;32m     40\u001b[0m     \u001b[38;5;28;01mreturn\u001b[39;00m normalized_array\n\u001b[0;32m     43\u001b[0m \u001b[38;5;66;03m#name of the picture file goes here\u001b[39;00m\n\u001b[0;32m     44\u001b[0m \u001b[38;5;66;03m#output of processed image is an array\u001b[39;00m\n\u001b[1;32m---> 45\u001b[0m processed_image \u001b[38;5;241m=\u001b[39m \u001b[43mpreprocess_image\u001b[49m\u001b[43m(\u001b[49m\u001b[38;5;124;43m\"\u001b[39;49m\u001b[38;5;124;43msample.jpg\u001b[39;49m\u001b[38;5;124;43m\"\u001b[39;49m\u001b[43m)\u001b[49m\n",
      "Cell \u001b[1;32mIn[2], line 29\u001b[0m, in \u001b[0;36mpreprocess_image\u001b[1;34m(image_path)\u001b[0m\n\u001b[0;32m     27\u001b[0m \u001b[38;5;28;01mdef\u001b[39;00m \u001b[38;5;21mpreprocess_image\u001b[39m(image_path):\n\u001b[0;32m     28\u001b[0m     \u001b[38;5;66;03m# Load image\u001b[39;00m\n\u001b[1;32m---> 29\u001b[0m     image \u001b[38;5;241m=\u001b[39m \u001b[43mload_image\u001b[49m\u001b[43m(\u001b[49m\u001b[43mimage_path\u001b[49m\u001b[43m)\u001b[49m\n\u001b[0;32m     31\u001b[0m     \u001b[38;5;66;03m# Convert to array\u001b[39;00m\n\u001b[0;32m     32\u001b[0m     array \u001b[38;5;241m=\u001b[39m image_to_array(image)\n",
      "Cell \u001b[1;32mIn[2], line 4\u001b[0m, in \u001b[0;36mload_image\u001b[1;34m(image_path)\u001b[0m\n\u001b[0;32m      3\u001b[0m \u001b[38;5;28;01mdef\u001b[39;00m \u001b[38;5;21mload_image\u001b[39m(image_path):\n\u001b[1;32m----> 4\u001b[0m     image \u001b[38;5;241m=\u001b[39m \u001b[43mImage\u001b[49m\u001b[38;5;241;43m.\u001b[39;49m\u001b[43mopen\u001b[49m\u001b[43m(\u001b[49m\u001b[43mimage_path\u001b[49m\u001b[43m)\u001b[49m\n\u001b[0;32m      5\u001b[0m     \u001b[38;5;66;03m#print(f\"Image loaded with size: {image.size}\")\u001b[39;00m\n\u001b[0;32m      6\u001b[0m     \u001b[38;5;28;01mreturn\u001b[39;00m image\n",
      "File \u001b[1;32mc:\\Users\\jdrga\\AppData\\Local\\Programs\\Python\\Python312\\Lib\\site-packages\\PIL\\Image.py:3431\u001b[0m, in \u001b[0;36mopen\u001b[1;34m(fp, mode, formats)\u001b[0m\n\u001b[0;32m   3428\u001b[0m     filename \u001b[38;5;241m=\u001b[39m os\u001b[38;5;241m.\u001b[39mpath\u001b[38;5;241m.\u001b[39mrealpath(os\u001b[38;5;241m.\u001b[39mfspath(fp))\n\u001b[0;32m   3430\u001b[0m \u001b[38;5;28;01mif\u001b[39;00m filename:\n\u001b[1;32m-> 3431\u001b[0m     fp \u001b[38;5;241m=\u001b[39m \u001b[43mbuiltins\u001b[49m\u001b[38;5;241;43m.\u001b[39;49m\u001b[43mopen\u001b[49m\u001b[43m(\u001b[49m\u001b[43mfilename\u001b[49m\u001b[43m,\u001b[49m\u001b[43m \u001b[49m\u001b[38;5;124;43m\"\u001b[39;49m\u001b[38;5;124;43mrb\u001b[39;49m\u001b[38;5;124;43m\"\u001b[39;49m\u001b[43m)\u001b[49m\n\u001b[0;32m   3432\u001b[0m     exclusive_fp \u001b[38;5;241m=\u001b[39m \u001b[38;5;28;01mTrue\u001b[39;00m\n\u001b[0;32m   3433\u001b[0m \u001b[38;5;28;01melse\u001b[39;00m:\n",
      "\u001b[1;31mFileNotFoundError\u001b[0m: [Errno 2] No such file or directory: 'C:\\\\Users\\\\jdrga\\\\iCloudDrive\\\\ UVA\\\\Third Semester\\\\ECE 2700\\\\Final Project\\\\sample.jpg'"
     ]
    }
   ],
   "source": [
    "\n",
    "\"\"\"Functions to preproccess the image, they do not need to be defined because they are a part of PIL, but I included them here.\"\"\"\n",
    "#load the image\n",
    "def load_image(image_path):\n",
    "    image = Image.open(image_path)\n",
    "    #print(f\"Image loaded with size: {image.size}\")\n",
    "    return image\n",
    "\n",
    "#turn the image into an array for processing\n",
    "def image_to_array(image):\n",
    "    image_array = np.array(image)\n",
    "    return image_array\n",
    "\n",
    "#normalize image in range 0-1 (can help if we want to use fourier transform)\n",
    "def normalize_image(array):\n",
    "    normalized_array = array / 255.0\n",
    "    return normalized_array\n",
    "\n",
    "#plot image\n",
    "def visualize_image(array, title=\"Image\"):\n",
    "    plt.imshow(array)\n",
    "    plt.title(title)\n",
    "    plt.axis('off')\n",
    "    plt.show()\n",
    "\n",
    "\n",
    "#main function\n",
    "def preprocess_image(image_path):\n",
    "    # Load image\n",
    "    image = load_image(image_path)\n",
    "\n",
    "    # Convert to array\n",
    "    array = image_to_array(image)\n",
    "\n",
    "    # Normalize the image\n",
    "    normalized_array = normalize_image(array)\n",
    "\n",
    "    # Visualize the image (optional)\n",
    "    #visualize_image(array, \"Original Image\")\n",
    "\n",
    "    return normalized_array\n",
    "\n",
    "\n",
    "#name of the picture file goes here\n",
    "#output of processed image is an array\n",
    "processed_image = preprocess_image(\"sample.jpg\")\n"
   ]
  },
  {
   "cell_type": "code",
   "execution_count": null,
   "metadata": {
    "colab": {
     "base_uri": "https://localhost:8080/"
    },
    "id": "-YBz_oY0c5_t",
    "outputId": "b7d611ee-57bb-4901-e588-728195e5040a"
   },
   "outputs": [
    {
     "name": "stdout",
     "output_type": "stream",
     "text": [
      "[[[1.         1.         1.        ]\n",
      "  [1.         1.         1.        ]\n",
      "  [1.         1.         1.        ]\n",
      "  ...\n",
      "  [0.90588235 0.92941176 0.91372549]\n",
      "  [0.91372549 0.95294118 0.94901961]\n",
      "  [0.78823529 0.81960784 0.82745098]]\n",
      "\n",
      " [[1.         1.         1.        ]\n",
      "  [1.         1.         1.        ]\n",
      "  [1.         1.         1.        ]\n",
      "  ...\n",
      "  [0.81176471 0.83529412 0.82745098]\n",
      "  [0.92156863 0.96078431 0.95686275]\n",
      "  [0.89019608 0.91372549 0.91372549]]\n",
      "\n",
      " [[1.         1.         1.        ]\n",
      "  [1.         1.         1.        ]\n",
      "  [1.         1.         1.        ]\n",
      "  ...\n",
      "  [0.7372549  0.74509804 0.73333333]\n",
      "  [0.92156863 0.9372549  0.94117647]\n",
      "  [0.86666667 0.88235294 0.87843137]]\n",
      "\n",
      " ...\n",
      "\n",
      " [[0.03137255 0.05882353 0.09019608]\n",
      "  [0.04313725 0.07843137 0.11372549]\n",
      "  [0.03921569 0.0745098  0.10980392]\n",
      "  ...\n",
      "  [0.16862745 0.34509804 0.18431373]\n",
      "  [0.19215686 0.36862745 0.21568627]\n",
      "  [0.19215686 0.36862745 0.21568627]]\n",
      "\n",
      " [[0.05490196 0.07058824 0.11372549]\n",
      "  [0.0745098  0.09803922 0.14509804]\n",
      "  [0.05882353 0.08235294 0.1372549 ]\n",
      "  ...\n",
      "  [0.18039216 0.34509804 0.18823529]\n",
      "  [0.18823529 0.36470588 0.20392157]\n",
      "  [0.19215686 0.36862745 0.20784314]]\n",
      "\n",
      " [[0.07058824 0.07843137 0.12941176]\n",
      "  [0.06666667 0.08235294 0.12941176]\n",
      "  [0.04313725 0.06666667 0.12156863]\n",
      "  ...\n",
      "  [0.19215686 0.35686275 0.2       ]\n",
      "  [0.19215686 0.35686275 0.2       ]\n",
      "  [0.18039216 0.34509804 0.18823529]]]\n"
     ]
    }
   ],
   "source": [
    "#check contents (displays a large array of values ranging from 0-1)\n",
    "print(processed_image)"
   ]
  },
  {
   "cell_type": "code",
   "execution_count": null,
   "metadata": {
    "id": "q6Ua_C5XbhBG"
   },
   "outputs": [],
   "source": [
    "\n",
    "\"\"\"there are predefined functions for denormalize_image, array_to_image, save_image, etc, but i added them above so we can debug if we need to\"\"\"\n",
    "def save_image(image, save_path):\n",
    "    image.save(save_path)\n",
    "    #print(f\"Image saved to {save_path}\")\n",
    "\n",
    "\n",
    "def denormalize_image(normalized_array):\n",
    "    # Check the range of the input array\n",
    "    if np.min(normalized_array) < 0:\n",
    "        # Scale [-1, 1] to [0, 255]\n",
    "        denormalized_array = ((normalized_array + 1) * 127.5).astype(np.uint8)\n",
    "    else:\n",
    "        # Scale [0, 1] to [0, 255]\n",
    "        denormalized_array = (normalized_array * 255).astype(np.uint8)\n",
    "\n",
    "    return denormalized_array\n",
    "\n",
    "def array_to_image(array):\n",
    "    #2D = GrayScale\n",
    "    if array.ndim == 2:\n",
    "        return Image.fromarray(array, mode=\"L\")  # Grayscale\n",
    "    #3D = RGB\n",
    "    elif array.ndim == 3 and array.shape[2] == 3:\n",
    "        return Image.fromarray(array, mode=\"RGB\")  # RGB\n",
    "\n",
    "\n",
    "\n",
    "# Function to recreate the image\n",
    "def recreate_image(normalized_array, save_path=None):\n",
    "    # Denormalize the array\n",
    "    denormalized_array = denormalize_image(normalized_array)\n",
    "\n",
    "    # Convert back to an image\n",
    "    recreated_image = array_to_image(denormalized_array)\n",
    "\n",
    "    # Save the image if a save path is provided\n",
    "    if save_path:\n",
    "        save_image(recreated_image, save_path)\n",
    "\n",
    "    # Visualize the recreated image (optional)\n",
    "    #visualize_image(denormalized_array, \"Recreated Image\")\n",
    "\n",
    "    return recreated_image\n",
    "\n",
    "processed_image = preprocess_image(\"sample.jpg\")\n",
    "\n",
    "#to visualize image either uncomment the visualize_image function or look through the save_path\n",
    "recreated_image = recreate_image(processed_image, save_path=\"recreated_image.jpg\")\n"
   ]
  }
 ],
 "metadata": {
  "colab": {
   "provenance": []
  },
  "kernelspec": {
   "display_name": "Python 3",
   "name": "python3"
  },
  "language_info": {
   "codemirror_mode": {
    "name": "ipython",
    "version": 3
   },
   "file_extension": ".py",
   "mimetype": "text/x-python",
   "name": "python",
   "nbconvert_exporter": "python",
   "pygments_lexer": "ipython3",
   "version": "3.12.1"
  }
 },
 "nbformat": 4,
 "nbformat_minor": 0
}
